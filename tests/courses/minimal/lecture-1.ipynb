{
 "cells": [
  {
   "cell_type": "markdown",
   "metadata": {},
   "source": [
    "# URNC Features"
   ]
  },
  {
   "cell_type": "markdown",
   "metadata": {},
   "source": [
    "## Assignment Detection\n",
    "\n",
    "1.  Assignment Cells are markdown cells that match the following regular expression: ``^#+ (Assignment|Exercise) `?([\\w-]+)`?``.\n",
    "\n",
    "    Valid Examples:\n",
    "\n",
    "    - ``# Assignment ``\n",
    "    - ``## Assignment ``\n",
    "    - ``### Assignment ``\n",
    "    - ``# Assignment some-unique-identifier ``\n",
    "    - ``## Assignment some-unique-identifier ``\n",
    "    - ``### Assignment some-unique-identifier ``\n",
    "    - ``# Assignment `some-unique-identifier` ``\n",
    "    - ``## Assignment `some-unique-identifier` ``\n",
    "    - ``### Assignment `some-unique-identifier` ``\n",
    "    - ``# Exercise ``\n",
    "    - ``## Exercise ``\n",
    "    - ``### Exercise ``\n",
    "    - ``# Exercise some-unique-identifier ``\n",
    "    - ``## Exercise some-unique-identifier ``\n",
    "    - ``### Exercise some-unique-identifier ``\n",
    "    - ``# Exercise `some-unique-identifier` ``\n",
    "    - ``## Exercise `some-unique-identifier` ``\n",
    "    - ``### Exercise `some-unique-identifier` ``\n",
    "\n",
    "    Invalid Examples:\n",
    "\n",
    "    - ``# Assignment some_unique_identifier`` (underscores are not allowed)\n",
    "    - ``# Assignment some unique identifier`` (spaces are not allowed)\n",
    "\n",
    "2.  Cells following an assignment cell are considered part of the assignment until the next heading of the same or higher level is encountered.\n",
    "3.  All cells part of an assignment will be tagged with tag `assignment`."
   ]
  },
  {
   "cell_type": "markdown",
   "metadata": {},
   "source": [
    "## Solution Detection\n",
    "\n",
    "Solution Cells are cells that either start with `^#+ Solution` and end with `###` or have tag `solution`. When running `urnc convert`, all solution cells will processed as described in section [Solution Processing](#solution-processing)."
   ]
  },
  {
   "cell_type": "markdown",
   "metadata": {},
   "source": [
    "## Solution Processing\n",
    "\n",
    "TODO"
   ]
  },
  {
   "cell_type": "markdown",
   "metadata": {},
   "source": [
    "# Level 2 Assignment Cells"
   ]
  },
  {
   "cell_type": "markdown",
   "metadata": {},
   "source": [
    "## Assignment\n",
    "\n",
    "This cell should be detected as assignment cell."
   ]
  },
  {
   "cell_type": "markdown",
   "metadata": {},
   "source": [
    "## Assignment level-2-assignment\n",
    "\n",
    "This cell should be detected as assignment cell."
   ]
  },
  {
   "cell_type": "markdown",
   "metadata": {},
   "source": [
    "## Assignment `level-2-assignment-verbatim-id`\n",
    "\n",
    "This cell should be detected as assignment cell."
   ]
  },
  {
   "cell_type": "markdown",
   "metadata": {},
   "source": [
    "## Exercise\n",
    "\n",
    "This cell should be detected as assignment cell."
   ]
  },
  {
   "cell_type": "markdown",
   "metadata": {},
   "source": [
    "## Exercise level-2-exercise\n",
    "\n",
    "This cell should be detected as assignment cell."
   ]
  },
  {
   "cell_type": "markdown",
   "metadata": {
    "vscode": {
     "languageId": "plaintext"
    }
   },
   "source": [
    "## Exercise `level-2-exercise-verbatim-id`\n",
    "\n",
    "This cell should be detected as assignment cell."
   ]
  },
  {
   "cell_type": "markdown",
   "metadata": {},
   "source": [
    "# Level 3 Assignment Cells"
   ]
  },
  {
   "cell_type": "markdown",
   "metadata": {},
   "source": [
    "### Assignment\n",
    "\n",
    "This cell should be detected as assignment cell."
   ]
  },
  {
   "cell_type": "markdown",
   "metadata": {},
   "source": [
    "### Assignment level-3-assignment\n",
    "\n",
    "This cell should be detected as assignment cell."
   ]
  },
  {
   "cell_type": "markdown",
   "metadata": {},
   "source": [
    "### Assignment `level-3-assignment-verbatim-id`\n",
    "\n",
    "This cell should be detected as assignment cell."
   ]
  },
  {
   "cell_type": "markdown",
   "metadata": {},
   "source": [
    "### Exercise\n",
    "\n",
    "This cell should be detected as assignment cell."
   ]
  },
  {
   "cell_type": "markdown",
   "metadata": {},
   "source": [
    "### Exercise level-3-exercise\n",
    "\n",
    "This cell should be detected as assignment cell."
   ]
  },
  {
   "cell_type": "markdown",
   "metadata": {
    "vscode": {
     "languageId": "plaintext"
    }
   },
   "source": [
    "### Exercise `level-3-exercise-verbatim-id`\n",
    "\n",
    "This cell should be detected as assignment cell."
   ]
  },
  {
   "cell_type": "markdown",
   "metadata": {},
   "source": [
    "# Invalid Assignments Cells"
   ]
  },
  {
   "cell_type": "markdown",
   "metadata": {},
   "source": [
    "## Assignment some_unique_identifier\n",
    "\n",
    "This assignment cell will not be detected as assignment cell because underscores are not allowed in assignment identifiers."
   ]
  },
  {
   "cell_type": "markdown",
   "metadata": {},
   "source": [
    "## Assignment some unique identifier\n",
    "\n",
    "This assignment cell will not be detected as assignment cell because underscores are not allowed in assignment identifiers.\n"
   ]
  }
 ],
 "metadata": {
  "kernelspec": {
   "display_name": "R",
   "language": "R",
   "name": "ir"
  },
  "language_info": {
   "codemirror_mode": "r",
   "file_extension": ".r",
   "mimetype": "text/x-r-source",
   "name": "R",
   "pygments_lexer": "r",
   "version": "4.3.1"
  }
 },
 "nbformat": 4,
 "nbformat_minor": 4
}
