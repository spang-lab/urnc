{
 "cells": [
  {
   "cell_type": "markdown",
   "metadata": {},
   "source": [
    "# Getting Started\n",
    "\n",
    "In recent years, [Jupyter](https://jupyter.org/) has become a valuable tool in online education, as evidenced by numerous high-quality courses such as Berkeley's [Data 8 course](https://www.data8.org/). The setup described in [Zero to JupyterHub with Kubernetes](https://z2jh.jupyter.org/en/stable/) facilitates the management of courses with hundreds of students. However, a recurring challenge has been maintaining consistency between slides, scripts, exercises, and solutions. URNC addresses this issue by allowing all of these files to be generated from a single source of truth, greatly simplifying the process of keeping course materials in sync.\n",
    "\n",
    "This document explains how to:\n",
    "\n",
    "1. Install [python](https://www.python.org/), [pip](https://pypi.org/project/pip/), [jupyter](https://jupyter.org/), [urnc](https://github.com/spang-lab/urnc), and [git](https://git-scm.com/).\n",
    "2. Clone the example repo\n",
    "3. Open this notebook on your local pc and solve the included tasks directly within the notebook (right now we assume that you read this text on the [urnc-example-course website](https://spang-lab.github.io/urnc-example-course/) where you cannot execute code)."
   ]
  },
  {
   "cell_type": "markdown",
   "metadata": {},
   "source": [
    "## Installing Python\n",
    "\n",
    "Python is a popular programming language that is widely used in various fields, including data science, web development, and automation. \n",
    "\n",
    "1. Visit the official Python downloads page at <https://www.python.org/downloads/>.\n",
    "2. Download the latest version for your operating system.\n",
    "3. Run the installer and follow the instructions. Make sure to check the box that says \"Add Python to PATH\" before you click \"Install Now\"."
   ]
  },
  {
   "cell_type": "markdown",
   "metadata": {},
   "source": [
    "## Installing pip\n",
    "\n",
    "Pip is a package manager for Python that allows you to install and manage additional packages that are not part of the Python standard library. Pip is usually installed automatically when you install Python from the official source as described in section [Installing Python](#installing-python). However, if for some reason it is not installed, you can install it manually as follows:\n",
    "\n",
    "1. Check if pip is already installed by running the following command in a terminal: `pip --version`. If pip is installed, you should see something like this: `pip x.y.z from ... (python X.Y)`. In this case, you can skip the rest of this section.\n",
    "2. Download the `get-pip.py` file from <https://bootstrap.pypa.io/get-pip.py>.\n",
    "3. Open a terminal and navigate to the directory where you downloaded `get-pip.py`.\n",
    "4. Run the following command: `python get-pip.py`.\n",
    "\n",
    "Now you should have both Python and pip installed on your system. You can verify the installation by opening a terminal and running the following commands:\n",
    "\n",
    "```bash\n",
    "python --version\n",
    "pip --version\n",
    "```"
   ]
  },
  {
   "cell_type": "markdown",
   "metadata": {},
   "source": [
    "### Installing jupyter and urnc\n",
    "\n",
    "**Jupyter** is an open-source web application that allows you to create and share documents that contain live code, equations, visualizations, and narrative text. It's widely used for data cleaning and transformation, numerical simulation, statistical modeling, data visualization, and machine learning.\n",
    "\n",
    "**URNC** (Uni Regensburg Notebook Converter) is a tool designed to maintain consistency among various educational materials like slides, scripts, exercises, and solutions from a single source of truth.\n",
    "\n",
    "**Installation Steps:**\n",
    "\n",
    "1. Run commands `python --version` and `pip --version` to ensure python version 3.10 or greater and pip version 23.3 or greater are installed on your system. If not, please go back to chapter [Installing Python](https://spang-lab.github.io/urnc-example-course/installing_python.html) and follow the instructions there.\n",
    "\n",
    "2. **Install Jupyter using PIP**: Open your command prompt or terminal and run the following commands to install Jupyter and URNC via pip `pip install pip install -U jupyterlab notebook urnc`.\n",
    "\n",
    "3. **Verify Installation**:\n",
    "   - Once the installation is complete, run the following command to open Jupyter Notebook:\n",
    "     ```\n",
    "     jupyter notebook\n",
    "     ```\n",
    "   - This should open Jupyter in your default web browser.\n",
    "\n",
    "4. **Create a New Notebook**:\n",
    "   - In the Jupyter Notebook interface, click on 'New' and select 'Python 3' to start a new notebook.\n",
    "\n",
    "5. **Getting Familiar**:\n",
    "   - Familiarize yourself with the Jupyter Notebook interface, including how to create and run cells.\n",
    "\n"
   ]
  },
  {
   "cell_type": "markdown",
   "metadata": {},
   "source": [
    "### Installing URNC\n",
    "\n",
    "\n",
    "\n",
    "**Installation Steps:**\n",
    "\n",
    "1. **Prerequisites**: ensure that you have `python` and `pip` installed on your system, as URNC requires these for functioning.\n",
    "2. **Clone the URNC Repository**: open your terminal or command prompt and use the following command to install the latest version of `urnc`: `pip install --upgrade urnc`\n",
    "3. **Verify Installation**: open your command prompt or terminal and run `urnc --version` to ensure urnc is successfully installed."
   ]
  },
  {
   "cell_type": "markdown",
   "metadata": {},
   "source": [
    "## Installing Git\n",
    "\n",
    "Git is a distributed version control system used for tracking changes in source code during software development. URNC uses Git to manage the course materials. To install Git, follow the steps below:\n",
    "\n",
    "1. Visit [Git's official website](https://git-scm.com/) and download the appropriate version for your operating system.\n",
    "2. Run the downloaded installer and follow the installation instructions. During installation, you can select and configure the necessary components based on your preferences.\n",
    "3. Open your command prompt or terminal and run `git --version` to ensure Git is successfully installed."
   ]
  },
  {
   "cell_type": "markdown",
   "metadata": {},
   "source": [
    "### Cloning the Example Repository\n",
    "\n",
    "1. Navigate to the directory where you want to clone the repository.\n",
    "2. Run the following command to clone the repository: `git clone https://github.com/spang-lab/urnc-example-course.git`\n",
    "3. Use command `cd urnc-example-course` to change your working directory to the cloned repository"
   ]
  },
  {
   "cell_type": "markdown",
   "metadata": {},
   "source": [
    "## Opening and Solving Assignments in Jupyter Notebook\n",
    "\n",
    "1. Inside the cloned repository start Jupyter Lab by running `jupyter lab`\n",
    "2. Inside Jupyter Lab, use the file tree to the left to navigate to the `lecture/01-getting-started.ipynb` file and doubleclick it to open it.\n",
    "3. The notebook contains assignments and tasks. Read the instructions and solve the tasks directly in the notebook. You can write and execute code in the notebook cells to find solutions."
   ]
  }
 ],
 "metadata": {
  "kernelspec": {
   "display_name": "R",
   "language": "R",
   "name": "ir"
  },
  "language_info": {
   "codemirror_mode": "r",
   "file_extension": ".r",
   "mimetype": "text/x-r-source",
   "name": "R",
   "pygments_lexer": "r",
   "version": "4.2.3"
  }
 },
 "nbformat": 4,
 "nbformat_minor": 4
}
