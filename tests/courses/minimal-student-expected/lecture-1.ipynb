{
 "cells": [
  {
   "cell_type": "markdown",
   "metadata": {},
   "source": [
    "# URNC Example Notebook\n",
    "\n",
    "This notebook is here to test the processing of the urnc command line tool"
   ]
  },
  {
   "cell_type": "markdown",
   "metadata": {
    "tags": []
   },
   "source": [
    "## Exercise Detection\n",
    "\n",
    "Exercises are:\n",
    "- markdown cells\n",
    "- start with `### Exercise`\n",
    "- have an exercise id afterwars in `` `exercise-id-here` ``\n",
    "\n",
    "Exercises are detected if they are markdown headers of level 3 and called `Exercise`, e.g `### Exercise`.\n"
   ]
  },
  {
   "cell_type": "markdown",
   "metadata": {
    "tags": []
   },
   "source": [
    "So ``### Exercise `example-1` `` becomes"
   ]
  },
  {
   "cell_type": "markdown",
   "metadata": {
    "assignment_id": "with-content",
    "tags": [
     "assignment-start",
     "assignment"
    ]
   },
   "source": [
    "<a class=\"anchor\" name=\"a-with-content\"></a>\n",
    "<h3>   ✎    Assignment with-content</h3>\n",
    "Test content"
   ]
  },
  {
   "cell_type": "markdown",
   "metadata": {
    "assignment_id": "example-1",
    "tags": [
     "assignment-start",
     "assignment"
    ]
   },
   "source": [
    "<a class=\"anchor\" name=\"a-example-1\"></a>\n",
    "<h3>   ✎    Assignment example-1</h3>"
   ]
  },
  {
   "cell_type": "markdown",
   "metadata": {
    "assignment_id": "example-1",
    "tags": [
     "assignment"
    ]
   },
   "source": [
    "This cell will be part of the exercise, since all cells after an Exercise start are assumed to be part of the exercise.\n",
    "\n",
    "Exercises end at the next markdown Header, which may be another exercise."
   ]
  },
  {
   "cell_type": "markdown",
   "metadata": {
    "assignment_id": "example-1",
    "tags": [
     "assignment"
    ]
   },
   "source": [
    "Solutions to exercises **have** to be included"
   ]
  },
  {
   "cell_type": "markdown",
   "metadata": {
    "assignment_id": "Tags",
    "tags": [
     "assignment-start",
     "assignment"
    ]
   },
   "source": [
    "<a class=\"anchor\" name=\"a-Tags\"></a>\n",
    "<h3>   ✎    Assignment Tags</h3>\n",
    "\n",
    "`urnc` will tag the cells it detected as exercises.\n",
    "\n",
    "To view tags in JupyterLab select `View > Show Right Sidebar`\n"
   ]
  },
  {
   "cell_type": "code",
   "execution_count": null,
   "metadata": {
    "assignment_id": "Tags",
    "tags": [
     "assignment"
    ]
   },
   "outputs": [],
   "source": []
  },
  {
   "cell_type": "markdown",
   "metadata": {
    "tags": []
   },
   "source": [
    "## Parsing check\n",
    "\n",
    "Exercises can be directly one after another"
   ]
  },
  {
   "cell_type": "markdown",
   "metadata": {
    "assignment_id": "a",
    "tags": [
     "assignment-start",
     "assignment"
    ]
   },
   "source": [
    "<a class=\"anchor\" name=\"a-a\"></a>\n",
    "<h3>   ✎    Assignment a</h3>"
   ]
  },
  {
   "cell_type": "markdown",
   "metadata": {
    "assignment_id": "b",
    "tags": [
     "assignment-start",
     "assignment"
    ]
   },
   "source": [
    "<a class=\"anchor\" name=\"a-b\"></a>\n",
    "<h3>   ✎    Assignment b</h3>"
   ]
  },
  {
   "cell_type": "markdown",
   "metadata": {
    "assignment_id": "b",
    "tags": [
     "assignment"
    ]
   },
   "source": [
    "<a class=\"anchor\" name=\"myCell\"></a>\n",
    "Test"
   ]
  },
  {
   "cell_type": "markdown",
   "metadata": {
    "assignment_id": "b",
    "tags": [
     "assignment"
    ]
   },
   "source": []
  },
  {
   "cell_type": "code",
   "execution_count": null,
   "metadata": {
    "assignment_id": "b",
    "tags": [
     "assignment"
    ]
   },
   "outputs": [],
   "source": []
  },
  {
   "cell_type": "code",
   "execution_count": null,
   "metadata": {
    "assignment_id": "b",
    "tags": [
     "assignment"
    ]
   },
   "outputs": [],
   "source": []
  },
  {
   "cell_type": "code",
   "execution_count": null,
   "metadata": {
    "assignment_id": "b",
    "tags": [
     "assignment"
    ]
   },
   "outputs": [],
   "source": []
  },
  {
   "cell_type": "code",
   "execution_count": null,
   "metadata": {
    "assignment_id": "b",
    "tags": [
     "assignment"
    ]
   },
   "outputs": [],
   "source": []
  },
  {
   "cell_type": "code",
   "execution_count": null,
   "metadata": {
    "assignment_id": "b",
    "tags": [
     "assignment"
    ]
   },
   "outputs": [],
   "source": []
  },
  {
   "cell_type": "code",
   "execution_count": null,
   "metadata": {
    "assignment_id": "b",
    "tags": [
     "assignment"
    ]
   },
   "outputs": [],
   "source": []
  },
  {
   "cell_type": "code",
   "execution_count": null,
   "metadata": {
    "assignment_id": "b",
    "tags": [
     "assignment"
    ]
   },
   "outputs": [],
   "source": []
  },
  {
   "cell_type": "code",
   "execution_count": null,
   "metadata": {
    "assignment_id": "b",
    "tags": [
     "assignment"
    ]
   },
   "outputs": [],
   "source": []
  },
  {
   "cell_type": "code",
   "execution_count": null,
   "metadata": {
    "assignment_id": "b",
    "tags": [
     "assignment"
    ]
   },
   "outputs": [],
   "source": []
  },
  {
   "cell_type": "code",
   "execution_count": null,
   "metadata": {
    "assignment_id": "b",
    "tags": [
     "assignment"
    ]
   },
   "outputs": [],
   "source": []
  },
  {
   "cell_type": "code",
   "execution_count": null,
   "metadata": {
    "assignment_id": "b",
    "tags": [
     "assignment"
    ]
   },
   "outputs": [],
   "source": []
  },
  {
   "cell_type": "code",
   "execution_count": null,
   "metadata": {
    "assignment_id": "b",
    "tags": [
     "assignment"
    ]
   },
   "outputs": [],
   "source": []
  },
  {
   "cell_type": "code",
   "execution_count": null,
   "metadata": {
    "assignment_id": "b",
    "tags": [
     "assignment"
    ]
   },
   "outputs": [],
   "source": []
  },
  {
   "cell_type": "code",
   "execution_count": null,
   "metadata": {
    "assignment_id": "b",
    "tags": [
     "assignment"
    ]
   },
   "outputs": [],
   "source": []
  },
  {
   "cell_type": "code",
   "execution_count": null,
   "metadata": {
    "assignment_id": "b",
    "tags": [
     "assignment"
    ]
   },
   "outputs": [],
   "source": []
  },
  {
   "cell_type": "code",
   "execution_count": null,
   "metadata": {
    "assignment_id": "b",
    "tags": [
     "assignment"
    ]
   },
   "outputs": [],
   "source": []
  },
  {
   "cell_type": "code",
   "execution_count": null,
   "metadata": {
    "assignment_id": "b",
    "tags": [
     "assignment"
    ]
   },
   "outputs": [],
   "source": []
  },
  {
   "cell_type": "markdown",
   "metadata": {
    "assignment_id": "b",
    "tags": [
     "assignment"
    ]
   },
   "source": [
    "[Test Link](#Exercise-b)"
   ]
  },
  {
   "cell_type": "markdown",
   "metadata": {
    "assignment_id": "b",
    "tags": [
     "assignment"
    ]
   },
   "source": [
    "[text with link](#myCell)"
   ]
  },
  {
   "cell_type": "code",
   "execution_count": null,
   "metadata": {
    "assignment_id": "b",
    "tags": [
     "assignment"
    ]
   },
   "outputs": [],
   "source": []
  },
  {
   "cell_type": "code",
   "execution_count": null,
   "metadata": {
    "assignment_id": "b",
    "tags": [
     "assignment"
    ]
   },
   "outputs": [],
   "source": []
  }
 ],
 "metadata": {
  "kernelspec": {
   "display_name": "R",
   "language": "R",
   "name": "ir"
  },
  "language_info": {
   "codemirror_mode": "r",
   "file_extension": ".r",
   "mimetype": "text/x-r-source",
   "name": "R",
   "pygments_lexer": "r",
   "version": "4.3.1"
  }
 },
 "nbformat": 4,
 "nbformat_minor": 4
}
