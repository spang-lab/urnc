{
 "cells": [
  {
   "cell_type": "markdown",
   "metadata": {},
   "source": [
    "# Fibonacci"
   ]
  },
  {
   "cell_type": "markdown",
   "metadata": {},
   "source": [
    "## Fibonacci Numbers\n",
    "\n",
    "> In mathematics, the Fibonacci sequence is a sequence in which each number is the sum of the two preceding ones. Numbers that are part of the Fibonacci sequence are known as Fibonacci numbers, commonly denoted Fn . The sequence commonly starts from 0 and 1, although some authors start the sequence from 1 and 1 or sometimes (as did Fibonacci) from 1 and 2. Starting from 0 and 1, the sequence begins\n",
    ">\n",
    "> 0, 1, 1, 2, 3, 5, 8, 13, 21, 34, 55, 89, 144, ....[1]\n",
    "> The Fibonacci numbers were first described in Indian mathematics as early as 200 BC in work by Pingala on enumerating possible patterns of Sanskrit poetry formed from syllables of two lengths.[2][3][4] They are named after the Italian mathematician Leonardo of Pisa, also known as Fibonacci, who introduced the sequence to Western European mathematics in his 1202 book Liber Abaci.[5]\n",
    ">\n",
    "> Fibonacci numbers appear unexpectedly often in mathematics, so much so that there is an entire journal dedicated to their study, the Fibonacci Quarterly. Applications of Fibonacci numbers include computer algorithms such as the Fibonacci search technique and the Fibonacci heap data structure, and graphs called Fibonacci cubes used for interconnecting parallel and distributed systems. They also appear in biological settings, such as branching in trees, the arrangement of leaves on a stem, the fruit sprouts of a pineapple, the flowering of an artichoke, and the arrangement of a pine cone's bracts, though they do not occur in all species.\n",
    ">\n",
    "> Fibonacci numbers are also strongly related to the golden ratio: Binet's formula expresses the nth Fibonacci number in terms of n and the golden ratio, and implies that the ratio of two consecutive Fibonacci numbers tends to the golden ratio as n increases. Fibonacci numbers are also closely related to Lucas numbers, which obey the same recurrence relation and with the Fibonacci numbers form a complementary pair of Lucas sequences.\n",
    "\n",
    "Source: [en.wikipedia.org/wiki/Fibonacci_sequence](https://en.wikipedia.org/wiki/Fibonacci_sequence)"
   ]
  },
  {
   "cell_type": "markdown",
   "metadata": {
    "assignment_id": "fibonacci-for",
    "tags": [
     "assignment-start",
     "assignment"
    ]
   },
   "source": [
    "## Assignment `fibonacci-for`"
   ]
  },
  {
   "cell_type": "markdown",
   "metadata": {
    "assignment_id": "fibonacci-for",
    "tags": [
     "assignment"
    ]
   },
   "source": [
    "Write a python function that uses a for loop to print the first 20 Fibonacci numbers."
   ]
  },
  {
   "cell_type": "code",
   "execution_count": null,
   "metadata": {
    "assignment_id": "fibonacci-for",
    "tags": [
     "assignment",
     "solution"
    ]
   },
   "outputs": [],
   "source": [
    "# Enter you solution here"
   ]
  },
  {
   "cell_type": "markdown",
   "metadata": {
    "assignment_id": "fibonacci-recursive",
    "tags": [
     "assignment-start",
     "assignment"
    ]
   },
   "source": [
    "## Assignment `fibonacci-recursive`"
   ]
  },
  {
   "cell_type": "markdown",
   "metadata": {
    "assignment_id": "fibonacci-recursive",
    "tags": [
     "assignment"
    ]
   },
   "source": [
    "Write a python function that uses recursion to print the first 20 Fibonacci numbers."
   ]
  },
  {
   "cell_type": "code",
   "execution_count": null,
   "metadata": {
    "assignment_id": "fibonacci-recursive",
    "tags": [
     "assignment",
     "solution"
    ]
   },
   "outputs": [],
   "source": [
    "# Enter you solution here"
   ]
  }
 ],
 "metadata": {
  "kernelspec": {
   "display_name": "Python 3",
   "language": "python",
   "name": "python3"
  },
  "language_info": {
   "codemirror_mode": {
    "name": "ipython",
    "version": 3
   },
   "file_extension": ".py",
   "mimetype": "text/x-python",
   "name": "python",
   "nbconvert_exporter": "python",
   "pygments_lexer": "ipython3",
   "version": "3.11.6"
  }
 },
 "nbformat": 4,
 "nbformat_minor": 4
}
