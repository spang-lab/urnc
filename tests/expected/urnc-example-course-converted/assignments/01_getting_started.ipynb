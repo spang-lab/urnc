{
 "cells": [
  {
   "cell_type": "markdown",
   "metadata": {},
   "source": [
    "# Getting Started"
   ]
  },
  {
   "cell_type": "markdown",
   "metadata": {},
   "source": [
    "This document will explain how to:\n",
    "\n",
    "1. Install [git](https://git-scm.com/), [jupyter](https://jupyter.org/) and [urnc](https://github.com/spang-lab/urnc)\n",
    "2. Clone the example repo\n",
    "3. Open this notebook on your local PC and solve the assignments at the end\n",
    "\n",
    "It is assumed that you read this text at the website of the *urnc-example-course* (<https://spang-lab.github.io/urnc-example-course/>)."
   ]
  }
 ],
 "metadata": {
  "kernelspec": {
   "display_name": "R",
   "language": "R",
   "name": "ir"
  },
  "language_info": {
   "codemirror_mode": "r",
   "file_extension": ".r",
   "mimetype": "text/x-r-source",
   "name": "R",
   "pygments_lexer": "r",
   "version": "4.2.3"
  }
 },
 "nbformat": 4,
 "nbformat_minor": 4
}
