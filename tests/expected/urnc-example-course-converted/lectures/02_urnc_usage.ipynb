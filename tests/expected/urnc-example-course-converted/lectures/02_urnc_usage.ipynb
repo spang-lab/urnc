{
 "cells": [
  {
   "cell_type": "markdown",
   "metadata": {},
   "source": [
    "# URNC Usage\n",
    "\n",
    "This document will demonstrate how URNC can be used to generate\n",
    "\n",
    "1. The public version of the *URNC Example Course*: <https://github.com/spang-lab/urnc-example-course-public>\n",
    "2. The static webpage of the *URNC Example Course*: <https://spang-lab.github.io/urnc-example-course/>"
   ]
  }
 ],
 "metadata": {
  "kernelspec": {
   "display_name": "R",
   "language": "R",
   "name": "ir"
  },
  "language_info": {
   "codemirror_mode": "r",
   "file_extension": ".r",
   "mimetype": "text/x-r-source",
   "name": "R",
   "pygments_lexer": "r",
   "version": "4.2.3"
  }
 },
 "nbformat": 4,
 "nbformat_minor": 4
}
