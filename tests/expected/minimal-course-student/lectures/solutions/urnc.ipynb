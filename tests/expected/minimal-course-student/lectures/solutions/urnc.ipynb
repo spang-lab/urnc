{
 "cells": [
  {
   "cell_type": "markdown",
   "metadata": {},
   "source": [
    "# URNC Features"
   ]
  },
  {
   "cell_type": "markdown",
   "metadata": {
    "tags": [
     "normal"
    ]
   },
   "source": [
    "## Assignment Detection\n",
    "\n",
    "1.  Assignment Cells are markdown cells that match the following regular expression: ``^#+ (Assignment|Exercise) `?([\\w-]+)`?`` and are not tagged as `normal`. Examples:\n",
    "    - ``# Assignment ``\n",
    "    - ``## Assignment ``\n",
    "    - ``### Assignment ``\n",
    "    - ``# Assignment some-unique-identifier ``\n",
    "    - ``## Assignment another-id ``\n",
    "    - ``### Assignment id_with_underscores ``\n",
    "    - ``# Assignment `id-inside-backticks` ``\n",
    "    - ``## Assignment `id5` ``\n",
    "    - ``### Assignment `id6` ``\n",
    "    - ``# Exercise ``\n",
    "    - ``## Exercise ``\n",
    "    - ``### Exercise ``\n",
    "    - ``# Exercise id-7 ``\n",
    "    - ``## Exercise id_8 ``\n",
    "    - ``### Exercise id9 ``\n",
    "    - ``# Exercise `id10` ``\n",
    "    - ``## Exercise `id11` ``\n",
    "    - ``### Exercise `id12` ``\n",
    "2.  Cells following an assignment cell are considered part of the assignment until the next heading of the same or higher level is encountered.\n",
    "3.  All cells part of an assignment will be tagged with tag `assignment`."
   ]
  },
  {
   "cell_type": "markdown",
   "metadata": {},
   "source": [
    "## Solution Detection\n",
    "\n",
    "Solution Cells are cells that either start with `r\"^###+\\s+Solution\"` and end with `###` or have tag `solution`. When running `urnc convert`, all solution cells will be processed as described in section [Solution Processing](#solution-processing)."
   ]
  },
  {
   "cell_type": "markdown",
   "metadata": {},
   "source": [
    "## Solution Processing\n",
    "\n",
    "TODO"
   ]
  },
  {
   "cell_type": "markdown",
   "metadata": {},
   "source": [
    "# Level 2 Assignment Cells"
   ]
  },
  {
   "cell_type": "markdown",
   "metadata": {
    "assignment_id": "some-id",
    "tags": [
     "assignment-start",
     "assignment"
    ]
   },
   "source": [
    "## Assignment some-id\n",
    "\n",
    "This cell should be detected as assignment cell."
   ]
  },
  {
   "cell_type": "code",
   "execution_count": null,
   "metadata": {
    "assignment_id": "some-id",
    "tags": [
     "assignment",
     "solution"
    ]
   },
   "outputs": [],
   "source": [
    "### Solution\n",
    "# this cell should be stripped when running `urnc convert`\n",
    "###"
   ]
  },
  {
   "cell_type": "markdown",
   "metadata": {
    "assignment_id": "another_id",
    "tags": [
     "assignment-start",
     "assignment"
    ]
   },
   "source": [
    "## Assignment another_id\n",
    "\n",
    "This cell should be detected as assignment cell."
   ]
  },
  {
   "cell_type": "code",
   "execution_count": null,
   "metadata": {
    "assignment_id": "another_id",
    "tags": [
     "assignment",
     "solution"
    ]
   },
   "outputs": [],
   "source": [
    "### Solution\n",
    "# this cell should be stripped when running `urnc convert`\n",
    "###"
   ]
  },
  {
   "cell_type": "markdown",
   "metadata": {
    "assignment_id": "a-2-3",
    "tags": [
     "assignment-start",
     "assignment"
    ]
   },
   "source": [
    "## Assignment `a-2-3`\n",
    "\n",
    "This cell should be detected as assignment cell."
   ]
  },
  {
   "cell_type": "code",
   "execution_count": null,
   "metadata": {
    "assignment_id": "a-2-3",
    "tags": [
     "assignment",
     "solution"
    ]
   },
   "outputs": [],
   "source": [
    "### Solution\n",
    "# this cell should be stripped when running `urnc convert`\n",
    "###"
   ]
  },
  {
   "cell_type": "markdown",
   "metadata": {
    "assignment_id": "ex-2-4",
    "tags": [
     "assignment-start",
     "assignment"
    ]
   },
   "source": [
    "## Exercise ex-2-4\n",
    "\n",
    "This cell should be detected as assignment cell."
   ]
  },
  {
   "cell_type": "code",
   "execution_count": null,
   "metadata": {
    "assignment_id": "ex-2-4",
    "tags": [
     "assignment",
     "solution"
    ]
   },
   "outputs": [],
   "source": [
    "### Solution\n",
    "# this cell should be stripped when running `urnc convert`\n",
    "###"
   ]
  },
  {
   "cell_type": "markdown",
   "metadata": {
    "assignment_id": "ex_2_5",
    "tags": [
     "assignment-start",
     "assignment"
    ]
   },
   "source": [
    "## Exercise ex_2_5\n",
    "\n",
    "This cell should be detected as assignment cell."
   ]
  },
  {
   "cell_type": "code",
   "execution_count": null,
   "metadata": {
    "assignment_id": "ex_2_5",
    "tags": [
     "assignment",
     "solution"
    ]
   },
   "outputs": [],
   "source": [
    "### Solution\n",
    "# this cell should be stripped when running `urnc convert`\n",
    "###"
   ]
  },
  {
   "cell_type": "markdown",
   "metadata": {
    "assignment_id": "ex_2_6",
    "tags": [
     "assignment-start",
     "assignment"
    ],
    "vscode": {
     "languageId": "plaintext"
    }
   },
   "source": [
    "## Exercise `ex_2_6`\n",
    "\n",
    "This cell should be detected as assignment cell."
   ]
  },
  {
   "cell_type": "code",
   "execution_count": null,
   "metadata": {
    "assignment_id": "ex_2_6",
    "tags": [
     "assignment",
     "solution"
    ]
   },
   "outputs": [],
   "source": [
    "### Solution\n",
    "# this cell should be stripped when running `urnc convert`\n",
    "###"
   ]
  },
  {
   "cell_type": "markdown",
   "metadata": {},
   "source": [
    "# Level 3 Assignment Cells"
   ]
  },
  {
   "cell_type": "markdown",
   "metadata": {
    "assignment_id": "a-3-1",
    "tags": [
     "assignment-start",
     "assignment"
    ]
   },
   "source": [
    "## Assignment a-3-1\n",
    "\n",
    "This cell should be detected as assignment cell."
   ]
  },
  {
   "cell_type": "code",
   "execution_count": null,
   "metadata": {
    "assignment_id": "a-3-1",
    "tags": [
     "assignment",
     "solution"
    ]
   },
   "outputs": [],
   "source": [
    "### Solution\n",
    "# this cell should be stripped when running `urnc convert`\n",
    "###"
   ]
  },
  {
   "cell_type": "markdown",
   "metadata": {
    "assignment_id": "a_3_2",
    "tags": [
     "assignment-start",
     "assignment"
    ]
   },
   "source": [
    "## Assignment a_3_2\n",
    "\n",
    "This cell should be detected as assignment cell."
   ]
  },
  {
   "cell_type": "code",
   "execution_count": null,
   "metadata": {
    "assignment_id": "a_3_2",
    "tags": [
     "assignment",
     "solution"
    ]
   },
   "outputs": [],
   "source": [
    "### Solution\n",
    "# this cell should be stripped when running `urnc convert`\n",
    "###"
   ]
  },
  {
   "cell_type": "markdown",
   "metadata": {
    "assignment_id": "a-3-3",
    "tags": [
     "assignment-start",
     "assignment"
    ]
   },
   "source": [
    "## Assignment `a-3-3`\n",
    "\n",
    "This cell should be detected as assignment cell."
   ]
  },
  {
   "cell_type": "code",
   "execution_count": null,
   "metadata": {
    "assignment_id": "a-3-3",
    "tags": [
     "assignment",
     "solution"
    ]
   },
   "outputs": [],
   "source": [
    "### Solution\n",
    "# this cell should be stripped when running `urnc convert`\n",
    "###"
   ]
  },
  {
   "cell_type": "markdown",
   "metadata": {
    "assignment_id": "ex-3-4",
    "tags": [
     "assignment-start",
     "assignment"
    ]
   },
   "source": [
    "## Exercise ex-3-4\n",
    "\n",
    "This cell should be detected as assignment cell."
   ]
  },
  {
   "cell_type": "code",
   "execution_count": null,
   "metadata": {
    "assignment_id": "ex-3-4",
    "tags": [
     "assignment",
     "solution"
    ]
   },
   "outputs": [],
   "source": [
    "### Solution\n",
    "# this cell should be stripped when running `urnc convert`\n",
    "###"
   ]
  },
  {
   "cell_type": "markdown",
   "metadata": {
    "assignment_id": "ex_3_5",
    "tags": [
     "assignment-start",
     "assignment"
    ]
   },
   "source": [
    "## Exercise ex_3_5\n",
    "\n",
    "This cell should be detected as assignment cell."
   ]
  },
  {
   "cell_type": "code",
   "execution_count": null,
   "metadata": {
    "assignment_id": "ex_3_5",
    "tags": [
     "assignment",
     "solution"
    ]
   },
   "outputs": [],
   "source": [
    "### Solution\n",
    "# this cell should be stripped when running `urnc convert`\n",
    "###"
   ]
  },
  {
   "cell_type": "markdown",
   "metadata": {
    "assignment_id": "ex_3_6",
    "tags": [
     "assignment-start",
     "assignment"
    ]
   },
   "source": [
    "## Exercise `ex_3_6`\n",
    "\n",
    "This cell should be detected as assignment cell."
   ]
  },
  {
   "cell_type": "code",
   "execution_count": null,
   "metadata": {
    "assignment_id": "ex_3_6",
    "tags": [
     "assignment",
     "solution"
    ]
   },
   "outputs": [],
   "source": [
    "### Solution\n",
    "# this cell should be stripped when running `urnc convert`\n",
    "###"
   ]
  }
 ],
 "metadata": {
  "kernelspec": {
   "display_name": "Python 3",
   "language": "python",
   "name": "python3"
  },
  "language_info": {
   "codemirror_mode": {
    "name": "ipython",
    "version": 3
   },
   "file_extension": ".py",
   "mimetype": "text/x-python",
   "name": "python",
   "nbconvert_exporter": "python",
   "pygments_lexer": "ipython3",
   "version": "3.11.6"
  }
 },
 "nbformat": 4,
 "nbformat_minor": 4
}
